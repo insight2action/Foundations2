{
  "nbformat": 4,
  "nbformat_minor": 0,
  "metadata": {
    "colab": {
      "provenance": [],
      "collapsed_sections": [],
      "authorship_tag": "ABX9TyO3kOUrWHJW9j4sTVbRh6Fg",
      "include_colab_link": true
    },
    "kernelspec": {
      "name": "python3",
      "display_name": "Python 3"
    },
    "language_info": {
      "name": "python"
    }
  },
  "cells": [
    {
      "cell_type": "markdown",
      "metadata": {
        "id": "view-in-github",
        "colab_type": "text"
      },
      "source": [
        "<a href=\"https://colab.research.google.com/github/insight2action/Foundations2/blob/main/Heaps.ipynb\" target=\"_parent\"><img src=\"https://colab.research.google.com/assets/colab-badge.svg\" alt=\"Open In Colab\"/></a>"
      ]
    },
    {
      "cell_type": "code",
      "source": [
        "import datetime\n",
        "\n",
        "print(\"Code last run on: \", datetime.datetime.now())"
      ],
      "metadata": {
        "colab": {
          "base_uri": "https://localhost:8080/"
        },
        "id": "BK_myxL-K0xc",
        "outputId": "499a333d-af08-4125-c6d8-7d361cc0e4cc"
      },
      "execution_count": null,
      "outputs": [
        {
          "output_type": "stream",
          "name": "stdout",
          "text": [
            "Code last run on:  2022-09-21 13:46:19.234877\n"
          ]
        }
      ]
    },
    {
      "cell_type": "markdown",
      "source": [
        "#The Heap Data Structure\n",
        "\n",
        "A (binary) **heap** is a data structure that can be viewed as a nearly complete binary tree. The tree is filled on all levels except for possibly the last level, which is filled from left to right. \n",
        "\n",
        "There are two types of binary heaps: *min-heap* and *max-heap* which adhere to an additional property called the *heap property*.\n",
        "\n",
        "Let $a(i)$ be the value of the data with node index $i$, and let $i_p$ be the index of the parent of node $i$. Data stored in a *min-heap* follows  the additional property:\n",
        "\n",
        "$$\n",
        "\\forall i, \\; a(i_p) \\le a(i)  \n",
        "$$\n",
        "\n",
        "A *max-heap* has the property: \n",
        "\n",
        "$$\n",
        "\\forall i, \\; a(i_p) \\ge a(i)  \n",
        "$$\n",
        " \n",
        "\n",
        "Here, we implement a binary heap as a Python list subject to the heap property described above. The *Heap* class provides the methods and attributes that are common to both *min-* and *max-*heaps, while subclasses *MinHeap* and *MaxHeap* encapsulate the corresponding heap property. "
      ],
      "metadata": {
        "id": "j2vMK_D4rApv"
      }
    },
    {
      "cell_type": "code",
      "metadata": {
        "id": "jmxroOklxOXX"
      },
      "source": [
        "import math\n",
        "\n",
        "class Heap:\n",
        "  def __init__(self):\n",
        "    self.data = [-1]\n",
        "    self.size = 0\n",
        "\n",
        "  def ParentIdx(self, i):\n",
        "    '''return the index of the parent node in self.data'''\n",
        "    if i > 1: #the first element of the array doesn't have a parent\n",
        "      return(math.floor(i/2))\n",
        "\n",
        "  def LeftChildIdx(self, i):\n",
        "    '''return the index of the left child of the parent node at index i'''\n",
        "    return(2*i)\n",
        "\n",
        "  def RightChildIdx(self, i):\n",
        "    '''return the index of the right child of the parent node at index i'''\n",
        "    return(2*i+1)\n",
        "\n",
        "  def FindElementIdx(self, a):\n",
        "    '''return the index of the data a in the array'''\n",
        "    if a in self.data:\n",
        "      return(self.data.index(a))\n",
        "\n",
        "  def Swap(self, i, j):\n",
        "    '''swaps positions of entries data[i] and data[j] in the heap'''\n",
        "    if i > 0 and j > 0 and i <= self.size and j <= self.size:\n",
        "      t = self.data[j]\n",
        "      self.data[j] = self.data[i]\n",
        "      self.data[i] = t\n",
        "\n",
        "  def Size(self):\n",
        "    '''returns the length of the heap, which is just the length of the list -1'''\n",
        "    return(len(self.data) - 1)\n",
        "\n",
        "  def ReturnElement(self, i):\n",
        "    '''returns the element in the heap at index i'''\n",
        "    return(self.data[i])"
      ],
      "execution_count": null,
      "outputs": []
    },
    {
      "cell_type": "code",
      "metadata": {
        "id": "U0AGeJbj2uFb"
      },
      "source": [
        "class MaxHeap(Heap):\n",
        "  \n",
        "  def __init__(self, allowDups = False):\n",
        "    super().__init__()\n",
        "    self.allowDuplicates = allowDups\n",
        "    self.type = \"Max\"\n",
        "\n",
        "  def MaxHeapInsert(self, a):\n",
        "    if self.allowDuplicates == False:\n",
        "      if a not in self.data:\n",
        "        self.data.append(a)\n",
        "        print(a, \"has been added to the MaxHeap\")\n",
        "        \n",
        "        self.size +=1\n",
        "        i = self.size    \n",
        "\n",
        "        while i > 1 and self.data[self.ParentIdx(i)]< self.data[i]:\n",
        "          self.Swap(i, self.ParentIdx(i))\n",
        "          i = self.ParentIdx(i)\n",
        "  \n",
        "      else:\n",
        "        print(a, \"is a duplicate and cannot be added to the MaxHeap\")\n",
        "\n",
        "    return None"
      ],
      "execution_count": null,
      "outputs": []
    },
    {
      "cell_type": "code",
      "metadata": {
        "colab": {
          "base_uri": "https://localhost:8080/"
        },
        "id": "B7CC_6BC32Ga",
        "outputId": "9db7d956-fe1f-4410-96ac-111beb2aa4f0"
      },
      "source": [
        "h = MaxHeap()\n",
        "\n",
        "data = [50, 40, 30, 45, 65, 75, 10, 20, 10, 66]\n",
        "\n",
        "for d in data:\n",
        "  h.MaxHeapInsert(d)\n",
        "\n",
        "\n",
        "print(\"\\nThe data stored in the heap:\", h.data)\n",
        "\n",
        "print(\"The size of the heap is\", h.size)"
      ],
      "execution_count": null,
      "outputs": [
        {
          "output_type": "stream",
          "name": "stdout",
          "text": [
            "50 has been added to the MaxHeap\n",
            "40 has been added to the MaxHeap\n",
            "30 has been added to the MaxHeap\n",
            "45 has been added to the MaxHeap\n",
            "65 has been added to the MaxHeap\n",
            "75 has been added to the MaxHeap\n",
            "10 has been added to the MaxHeap\n",
            "20 has been added to the MaxHeap\n",
            "10 is a duplicate and cannot be added to the MaxHeap\n",
            "66 has been added to the MaxHeap\n",
            "\n",
            "The data stored in the heap: [-1, 75, 66, 65, 50, 45, 30, 10, 20, 40]\n",
            "The size of the heap is 9\n"
          ]
        }
      ]
    },
    {
      "cell_type": "markdown",
      "source": [
        "Let's compute the right and left child of a node in the MaxHeap using the built-in methods. \n",
        "\n",
        "Take for example 50. First, we need to find the index of 50 in the heap (4) using the method `FindElementIdx()`. Then, we compute the index of the left and right children of 50 (8, 9) using the methods `LeftChildIdx()` and `RightChildIdx()`. Finally, we can output the elements at these child index values using the `ReturnElement()` method. "
      ],
      "metadata": {
        "id": "wvFnHeypQ3MG"
      }
    },
    {
      "cell_type": "code",
      "source": [
        "print(\"The left child of 50 is: \", h.ReturnElement(h.LeftChildIdx(h.FindElementIdx(50))))\n",
        "\n",
        "print(\"The right child of 50 is: \", h.ReturnElement(h.RightChildIdx(h.FindElementIdx(50))))\n"
      ],
      "metadata": {
        "colab": {
          "base_uri": "https://localhost:8080/"
        },
        "id": "usX09h1ENLkb",
        "outputId": "b9708dea-462f-4181-ef3f-0b28b3021d88"
      },
      "execution_count": null,
      "outputs": [
        {
          "output_type": "stream",
          "name": "stdout",
          "text": [
            "The left child of 50 is:  20\n",
            "The right child of 50 is:  40\n"
          ]
        }
      ]
    },
    {
      "cell_type": "markdown",
      "source": [
        "**Reference**: *Introduction to Algorithms* by Cormen, Leierson, Rivest, and Stein, Third Edition"
      ],
      "metadata": {
        "id": "uzBPf6bwrDHo"
      }
    }
  ]
}